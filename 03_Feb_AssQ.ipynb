{
  "nbformat": 4,
  "nbformat_minor": 0,
  "metadata": {
    "colab": {
      "provenance": [],
      "authorship_tag": "ABX9TyMJGq16aagkRlhBk8o9HUuX",
      "include_colab_link": true
    },
    "kernelspec": {
      "name": "python3",
      "display_name": "Python 3"
    },
    "language_info": {
      "name": "python"
    }
  },
  "cells": [
    {
      "cell_type": "markdown",
      "metadata": {
        "id": "view-in-github",
        "colab_type": "text"
      },
      "source": [
        "<a href=\"https://colab.research.google.com/github/AbhiKr321/PW_Assignment/blob/main/03_Feb_AssQ.ipynb\" target=\"_parent\"><img src=\"https://colab.research.google.com/assets/colab-badge.svg\" alt=\"Open In Colab\"/></a>"
      ]
    },
    {
      "cell_type": "markdown",
      "source": [
        "Q1. Which keyword is used to create a function? Create a function to return a list of odd numbers in the\n",
        "range of 1 to 25.\n",
        "\n",
        "*Keyword used to create function - def*\n"
      ],
      "metadata": {
        "id": "dzcOJA5x1rUN"
      }
    },
    {
      "cell_type": "code",
      "execution_count": null,
      "metadata": {
        "colab": {
          "base_uri": "https://localhost:8080/"
        },
        "id": "5D_-rP5S1itw",
        "outputId": "1d1c1ed1-017f-49d7-b943-7361f8e6abee"
      },
      "outputs": [
        {
          "output_type": "execute_result",
          "data": {
            "text/plain": [
              "[1, 3, 5, 7, 9, 11, 13, 15, 17, 19, 21, 23, 25]"
            ]
          },
          "metadata": {},
          "execution_count": 3
        }
      ],
      "source": [
        "# Function to return list of odd number\n",
        "def odd_no(range_start, range_till):\n",
        "  list1=[]\n",
        "  for i in range(range_start, range_till+1,1):\n",
        "    if i%2 != 0:\n",
        "      list1.append(i)\n",
        "  return list1\n",
        "\n",
        "# calling function\n",
        "odd_no(1,25)"
      ]
    },
    {
      "cell_type": "markdown",
      "source": [
        "`Q2. Why *args and **kwargs is used in some functions? Create a function each for *args and **kwargs to demonstrate their use.`\n",
        "\n",
        "\n",
        "```\n",
        "*args - used for pass a variable number of non-keyword arguments to a Python function\n",
        "\n",
        "**kwargs - allows us to pass a variable number of keyword arguments to a Python function\n",
        "```\n",
        "\n"
      ],
      "metadata": {
        "id": "2HAlWban4Qzl"
      }
    },
    {
      "cell_type": "code",
      "source": [
        "# Use *args in variable number of arguments\n",
        "def add(*args):\n",
        "    sum = 0\n",
        "    for num in args:\n",
        "      sum += num \n",
        "    return sum\n",
        "\n",
        "print( add(1,2,3,4,5) )"
      ],
      "metadata": {
        "colab": {
          "base_uri": "https://localhost:8080/"
        },
        "id": "GrfxVf4X3rHS",
        "outputId": "984e0543-deff-4ba6-8423-df79c1095a47"
      },
      "execution_count": null,
      "outputs": [
        {
          "output_type": "stream",
          "name": "stdout",
          "text": [
            "15\n"
          ]
        }
      ]
    },
    {
      "cell_type": "code",
      "source": [
        "# Use of **Kwargs in variable number keyword arguments\n",
        "def Total_Score(**marks):\n",
        "  total = 0\n",
        "  for x in marks.values():\n",
        "    total += x\n",
        "  return total\n",
        "\n",
        "print(Total_Score(Maths = 55, Sci = 60, Eng = 60))"
      ],
      "metadata": {
        "colab": {
          "base_uri": "https://localhost:8080/"
        },
        "id": "Tp3Rtk3l640i",
        "outputId": "e2ea7b16-7d3f-445b-d430-c433fd25a4a5"
      },
      "execution_count": null,
      "outputs": [
        {
          "output_type": "stream",
          "name": "stdout",
          "text": [
            "175\n"
          ]
        }
      ]
    },
    {
      "cell_type": "markdown",
      "source": [
        "Q3. What is an iterator in python? Name the method used to initialise the iterator object and the method\n",
        "used for iteration. Use these methods to print the first five elements of the given list [2, 4, 6, 8, 10, 12, 14,\n",
        "16, 18, 20].\n",
        "\n",
        "- An iterator is an object that can be iterated upon, meaning that you can traverse through all the values.\n",
        "- `__iter__()` method is used for initialise iterator object and `__next__`() method used for iteration\n",
        "\n",
        "\n"
      ],
      "metadata": {
        "id": "ja1Z1vFi9LHo"
      }
    },
    {
      "cell_type": "code",
      "source": [
        "list1 = [2, 4, 6, 8, 10, 12, 14, 16, 18, 20] \n",
        "list_iter = iter(list1)\n",
        "for i in range(0,5,1):\n",
        "  print(next(list_iter), end = \" \")"
      ],
      "metadata": {
        "id": "K7nsRf5p9l2Z",
        "colab": {
          "base_uri": "https://localhost:8080/"
        },
        "outputId": "798eb67b-4cb4-4cd5-9192-3e0c69ccbe55"
      },
      "execution_count": null,
      "outputs": [
        {
          "output_type": "stream",
          "name": "stdout",
          "text": [
            "2 4 6 8 10 "
          ]
        }
      ]
    },
    {
      "cell_type": "markdown",
      "source": [
        "Q4. What is a generator function in python? Why yield keyword is used? Give an example of a generator\n",
        "function.\n",
        "- In Python, a generator is a function that returns an iterator that produces a sequence of values when iterated over. Generators are useful when we want to produce a large sequence of values, but we don't want to store all of them in memory at once.\n",
        "- The yield keyword is used to produce a value from the generator and pause the generator function's execution until the next value is requested."
      ],
      "metadata": {
        "id": "Kvd0EhlU9jz3"
      }
    },
    {
      "cell_type": "code",
      "source": [
        "def my_generator(n):\n",
        "\n",
        "    # initialize counter\n",
        "    value = 0\n",
        "\n",
        "    # loop until counter is less than n\n",
        "    while value < n:\n",
        "\n",
        "        # produce the current value of the counter\n",
        "        yield value\n",
        "\n",
        "        # increment the counter\n",
        "        value += 1\n",
        "\n",
        "# iterate over the generator object produced by my_generator\n",
        "for value in my_generator(10):\n",
        "\n",
        "    # print each value produced by generator\n",
        "    print(value, end = \" \")"
      ],
      "metadata": {
        "id": "5R5WnecX7xJ8",
        "colab": {
          "base_uri": "https://localhost:8080/"
        },
        "outputId": "876ef5d1-6aed-4cce-9bbe-d0bdccfb1897"
      },
      "execution_count": null,
      "outputs": [
        {
          "output_type": "stream",
          "name": "stdout",
          "text": [
            "0 1 2 3 4 5 6 7 8 9 "
          ]
        }
      ]
    },
    {
      "cell_type": "markdown",
      "source": [
        "Q5. Create a generator function for prime numbers less than 1000. Use the next() method to print the\n",
        "first 20 prime numbers."
      ],
      "metadata": {
        "id": "r0Tet8Dr9k7r"
      }
    },
    {
      "cell_type": "code",
      "source": [
        "def primeno():\n",
        "  list_prime = []\n",
        "  for no in range(2,1000,1):\n",
        "    #check if the no is prime\n",
        "    is_prime = True \n",
        "    for prime in list_prime:\n",
        "      if no % prime == 0:\n",
        "        is_prime = False\n",
        "        break\n",
        "    if is_prime:\n",
        "      list_prime.append(no)\n",
        "      yield no\n",
        "\n",
        "# use the generator function to print the first 20 prime numbers\n",
        "gen = primeno()\n",
        "for i in range(20):\n",
        "  print(next(gen), end = \" \")\n"
      ],
      "metadata": {
        "id": "nElHoVEI9qaW",
        "colab": {
          "base_uri": "https://localhost:8080/"
        },
        "outputId": "9be3f133-9bab-4e7e-9a9a-82d526496415"
      },
      "execution_count": null,
      "outputs": [
        {
          "output_type": "stream",
          "name": "stdout",
          "text": [
            "2 3 5 7 11 13 17 19 23 29 31 37 41 43 47 53 59 61 67 71 "
          ]
        }
      ]
    },
    {
      "cell_type": "markdown",
      "source": [
        "Q6. Write a python program to print the first 10 Fibonacci numbers using a while loop."
      ],
      "metadata": {
        "id": "0HYVX_C09fDy"
      }
    },
    {
      "cell_type": "code",
      "source": [
        "# fibonacci series start with 0, 1, 1,2...\n",
        "first = 0\n",
        "second = 1\n",
        "list_fib = [0,1]\n",
        "i=3\n",
        "while i<11:\n",
        "  sum = first + second\n",
        "  list_fib.append(sum)\n",
        "  first = second\n",
        "  second = sum\n",
        "  i += 1\n",
        "\n",
        "print(list_fib)"
      ],
      "metadata": {
        "colab": {
          "base_uri": "https://localhost:8080/"
        },
        "id": "zzBeC_9h9tiw",
        "outputId": "5cdbb1f6-824e-4d03-d89b-eda5f48d1af7"
      },
      "execution_count": null,
      "outputs": [
        {
          "output_type": "stream",
          "name": "stdout",
          "text": [
            "[0, 1, 1, 2, 3, 5, 8, 13, 21, 34]\n"
          ]
        }
      ]
    },
    {
      "cell_type": "markdown",
      "source": [
        "Q7. Write a List Comprehension to iterate through the given string: ‘pwskills’.\n",
        "Expected output: ['p', 'w', 's', 'k', 'i', 'l', 'l', 's']"
      ],
      "metadata": {
        "id": "jYwabSvJ9t9r"
      }
    },
    {
      "cell_type": "code",
      "source": [
        "string =\"pwskills\"\n",
        "l1 =[i for i in string]\n",
        "print(l1)"
      ],
      "metadata": {
        "colab": {
          "base_uri": "https://localhost:8080/"
        },
        "id": "oQRw-Ghl9wp_",
        "outputId": "361ba3a0-a5a8-4ba1-cb95-25b4d5b3e35f"
      },
      "execution_count": null,
      "outputs": [
        {
          "output_type": "stream",
          "name": "stdout",
          "text": [
            "['p', 'w', 's', 'k', 'i', 'l', 'l', 's']\n"
          ]
        }
      ]
    },
    {
      "cell_type": "markdown",
      "source": [
        "Q8. Write a python program to check whether a given number is Palindrome or not using a while loop."
      ],
      "metadata": {
        "id": "i4yHQ3h69xY8"
      }
    },
    {
      "cell_type": "code",
      "source": [
        "def palindrome_check(num):\n",
        "  sum = 0\n",
        "  initial_num = num\n",
        "  while num > 0:\n",
        "    sum = sum*10 + num%10\n",
        "    num = num//10\n",
        "\n",
        "  if initial_num == sum:\n",
        "    print(\"Given num is Palindrome no.\")\n",
        "  else :\n",
        "    print(\"Given num is Not Palindrome no.\")\n",
        "\n",
        "num = int(input(\"Enter a number:\"))\n",
        "palindrome_check(num)"
      ],
      "metadata": {
        "colab": {
          "base_uri": "https://localhost:8080/"
        },
        "id": "C-u_MBOv9zbn",
        "outputId": "9e1d8e75-0c0e-4656-eb06-f2941fa9f3a3"
      },
      "execution_count": null,
      "outputs": [
        {
          "output_type": "stream",
          "name": "stdout",
          "text": [
            "Enter a number:131\n",
            "Given num is Palindrome no.\n"
          ]
        }
      ]
    },
    {
      "cell_type": "markdown",
      "source": [
        "Q9. Write a code to print odd numbers from 1 to 100 using list comprehension.\n",
        "Note: Use a list comprehension to create a list from 1 to 100 and use another List comprehension to filter\n",
        "out odd numbers."
      ],
      "metadata": {
        "id": "2y7WPE2C9zug"
      }
    },
    {
      "cell_type": "code",
      "source": [
        "list_num = [i for i in range(1,101,1)]\n",
        "list_odd = [i for i in list_num if i%2 != 0]\n",
        "print(list_odd)"
      ],
      "metadata": {
        "colab": {
          "base_uri": "https://localhost:8080/"
        },
        "id": "QoIcGir193Qu",
        "outputId": "5406866e-fa4c-42c5-bc1a-f3d20c7ec91f"
      },
      "execution_count": null,
      "outputs": [
        {
          "output_type": "stream",
          "name": "stdout",
          "text": [
            "[1, 3, 5, 7, 9, 11, 13, 15, 17, 19, 21, 23, 25, 27, 29, 31, 33, 35, 37, 39, 41, 43, 45, 47, 49, 51, 53, 55, 57, 59, 61, 63, 65, 67, 69, 71, 73, 75, 77, 79, 81, 83, 85, 87, 89, 91, 93, 95, 97, 99]\n"
          ]
        }
      ]
    }
  ]
}