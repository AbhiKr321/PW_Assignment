{
  "nbformat": 4,
  "nbformat_minor": 0,
  "metadata": {
    "colab": {
      "provenance": [],
      "authorship_tag": "ABX9TyPLM+ldCAi3zROwEGpwLd1G",
      "include_colab_link": true
    },
    "kernelspec": {
      "name": "python3",
      "display_name": "Python 3"
    },
    "language_info": {
      "name": "python"
    }
  },
  "cells": [
    {
      "cell_type": "markdown",
      "metadata": {
        "id": "view-in-github",
        "colab_type": "text"
      },
      "source": [
        "<a href=\"https://colab.research.google.com/github/AbhiKr321/PW_Assignment/blob/main/17_Feb_AssQ.ipynb\" target=\"_parent\"><img src=\"https://colab.research.google.com/assets/colab-badge.svg\" alt=\"Open In Colab\"/></a>"
      ]
    },
    {
      "cell_type": "markdown",
      "source": [
        "Q1. What is MongoDB? Explain non-relational databases in short. In which scenarios it is preferred to use MongoDB over SQL databases?\n",
        "- MongoDB is a popular NoSQL document-oriented database that stores data in JSON-like documents with dynamic schemas. Unlike traditional relational databases, MongoDB is a non-relational database that provides flexible and scalable data management solutions for modern web applications.\n",
        "\n",
        "- Non-relational databases, also known as NoSQL databases, are designed to store and manage unstructured and semi-structured data. They do not use a fixed schema, and the data can be stored in various formats, including key-value pairs, JSON documents, graph data, etc. Non-relational databases are typically preferred for scenarios where scalability, performance, and agility are more important than strict data consistency.\n",
        "\n",
        "- MongoDB is often preferred over SQL databases in scenarios where:\n",
        "\n",
        " - High volume of unstructured data: MongoDB is designed to handle high volumes of unstructured data, making it a good fit for applications that require real-time data processing and analysis.\n",
        "\n",
        " - Scalability: MongoDB scales horizontally, meaning that it can distribute data across multiple servers or clusters. This makes it easier to scale the database as the application grows.\n",
        "\n",
        " - Flexibility: MongoDB's flexible data model allows for easy changes to the data schema without requiring downtime or complex migration processes.\n",
        "\n",
        " - Document-based data model: MongoDB's document-based data model is ideal for storing and managing complex data structures, such as hierarchical data or arrays.\n",
        "\n",
        " - Agile development: MongoDB's flexible schema and dynamic data model make it easier to adapt to changes in the application's requirements, making it a good fit for agile development methodologies.\n",
        "\n",
        "\n",
        "\n",
        "Q2. State and Explain the features of MongoDB.\n",
        "\n",
        "- MongoDB is a popular NoSQL document-oriented database that provides a number of features that make it a popular choice for modern web applications. Here are some of the key features of MongoDB:\n",
        "\n",
        " - Document-oriented: MongoDB stores data in JSON-like documents with dynamic schemas. This makes it easy to store and manage complex data structures, such as hierarchical data or arrays.\n",
        "\n",
        " - Scalability: MongoDB is designed to scale horizontally, meaning that it can distribute data across multiple servers or clusters. This makes it easier to scale the database as the application grows.\n",
        "\n",
        " - Flexible schema: MongoDB's flexible data model allows for easy changes to the data schema without requiring downtime or complex migration processes.\n",
        "\n",
        " - Querying and indexing: MongoDB provides powerful query and indexing capabilities, making it easy to find and retrieve data from large collections.\n",
        "\n",
        " - Aggregation framework: MongoDB's aggregation framework provides a powerful set of tools for data analysis and reporting.\n",
        "\n",
        " - Replication and high availability: MongoDB supports replication and high availability, allowing for automatic failover in case of a primary node failure.\n",
        "\n",
        " - Security: MongoDB provides built-in security features, including authentication, authorization, and encryption, to help protect data from unauthorized access.\n",
        "\n",
        " - GridFS: MongoDB's GridFS feature allows for efficient storage and retrieval of large files, such as images, videos, and audio files.\n",
        "\n",
        " - Integration: MongoDB provides drivers and libraries for a wide range of programming languages and platforms, making it easy to integrate with other tools and technologies."
      ],
      "metadata": {
        "id": "yoVpkChZ6nWb"
      }
    },
    {
      "cell_type": "markdown",
      "source": [
        "Q3. Write a code to connect MongoDB to Python. Also, create a database and a collection in MongoDB."
      ],
      "metadata": {
        "id": "c7js4FjB6vjb"
      }
    },
    {
      "cell_type": "code",
      "source": [
        "# Import the required libraries\n",
        "from pymongo import MongoClient\n",
        "\n",
        "# Connect to MongoDB\n",
        "client = MongoClient('mongodb://localhost:27017/')\n",
        "\n",
        "# Create a new database and collection\n",
        "mydb = client['mydatabase']\n",
        "mycol = mydb['customers']\n",
        "\n",
        "# Insert a new document into the collection\n",
        "mydict = { \"name\": \"John\", \"address\": \"Highway 37\" }\n",
        "x = mycol.insert_one(mydict)\n",
        "\n",
        "# Print the ID of the inserted document\n",
        "print(x.inserted_id)\n"
      ],
      "metadata": {
        "id": "i8cBKlO56u8y"
      },
      "execution_count": null,
      "outputs": []
    },
    {
      "cell_type": "markdown",
      "source": [
        "Q4. Using the database and the collection created in question number 3, write a code to insert one record,\n",
        "and insert many records. Use the find() and find_one() methods to print the inserted record."
      ],
      "metadata": {
        "id": "5C44Bl-P6wqF"
      }
    },
    {
      "cell_type": "code",
      "execution_count": null,
      "metadata": {
        "id": "gNhc0Brj6WeL"
      },
      "outputs": [],
      "source": [
        "# Import the required libraries\n",
        "from pymongo import MongoClient\n",
        "\n",
        "# Connect to MongoDB\n",
        "client = MongoClient('mongodb://localhost:27017/')\n",
        "\n",
        "# Select the database and collection\n",
        "mydb = client['mydatabase']\n",
        "mycol = mydb['customers']\n",
        "\n",
        "# Insert one record\n",
        "mydict = { \"name\": \"Alice\", \"address\": \"123 Main St\" }\n",
        "x = mycol.insert_one(mydict)\n",
        "\n",
        "# Insert many records\n",
        "mylist = [\n",
        "  { \"name\": \"Bob\", \"address\": \"456 Elm St\" },\n",
        "  { \"name\": \"Charlie\", \"address\": \"789 Oak St\" },\n",
        "  { \"name\": \"David\", \"address\": \"1010 Maple St\" }\n",
        "]\n",
        "x = mycol.insert_many(mylist)\n",
        "\n",
        "# Print the inserted records\n",
        "print(\"Inserted record:\")\n",
        "print(mycol.find_one({ \"name\": \"Alice\" }))\n",
        "\n",
        "print(\"Inserted records:\")\n",
        "for record in mycol.find():\n",
        "    print(record)\n"
      ]
    },
    {
      "cell_type": "markdown",
      "source": [
        "Q5. Explain how you can use the find() method to query the MongoDB database. Write a simple code to\n",
        "demonstrate this."
      ],
      "metadata": {
        "id": "jl0b6Fjb61QT"
      }
    },
    {
      "cell_type": "code",
      "source": [
        "# Import the required libraries\n",
        "from pymongo import MongoClient\n",
        "\n",
        "# Connect to MongoDB\n",
        "client = MongoClient('mongodb://localhost:27017/')\n",
        "\n",
        "# Select the database and collection\n",
        "mydb = client['mydatabase']\n",
        "mycol = mydb['customers']\n",
        "\n",
        "# Query the collection using find()\n",
        "query = { \"address\": \"123 Main St\" }\n",
        "results = mycol.find(query)\n",
        "\n",
        "# Iterate over the results and print each document\n",
        "for result in results:\n",
        "    print(result)\n"
      ],
      "metadata": {
        "id": "pLKHO0Ah63OM"
      },
      "execution_count": null,
      "outputs": []
    },
    {
      "cell_type": "markdown",
      "source": [
        "Q6. Explain the sort() method. Give an example to demonstrate sorting in MongoDB."
      ],
      "metadata": {
        "id": "Mt-m-yX764JG"
      }
    },
    {
      "cell_type": "code",
      "source": [
        "# Import the required libraries\n",
        "from pymongo import MongoClient\n",
        "\n",
        "# Connect to MongoDB\n",
        "client = MongoClient('mongodb://localhost:27017/')\n",
        "\n",
        "# Select the database and collection\n",
        "mydb = client['mydatabase']\n",
        "mycol = mydb['customers']\n",
        "\n",
        "# Query the collection and sort the results\n",
        "results = mycol.find().sort(\"name\", 1)\n",
        "\n",
        "# Iterate over the sorted results and print each document\n",
        "for result in results:\n",
        "    print(result)\n"
      ],
      "metadata": {
        "id": "jMMDqzK166d_"
      },
      "execution_count": null,
      "outputs": []
    },
    {
      "cell_type": "markdown",
      "source": [
        "Q7. Explain why delete_one(), delete_many(), and drop() is used."
      ],
      "metadata": {
        "id": "MFGdZ9fF66wr"
      }
    },
    {
      "cell_type": "code",
      "source": [
        "# Import the required libraries\n",
        "from pymongo import MongoClient\n",
        "\n",
        "# Connect to MongoDB\n",
        "client = MongoClient('mongodb://localhost:27017/')\n",
        "\n",
        "# Select the database and collection\n",
        "mydb = client['mydatabase']\n",
        "mycol = mydb['customers']\n",
        "\n",
        "# Delete a single document\n",
        "myquery = { \"address\": \"123 Main St\" }\n",
        "mycol.delete_one(myquery)\n",
        "\n",
        "# Delete multiple documents\n",
        "myquery = { \"age\": { \"$gt\": 30 } }\n",
        "mycol.delete_many(myquery)\n",
        "\n",
        "# Drop the entire collection\n",
        "mycol.drop()\n"
      ],
      "metadata": {
        "id": "DPwcWVUW9Oq4"
      },
      "execution_count": null,
      "outputs": []
    }
  ]
}