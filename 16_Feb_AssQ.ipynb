{
  "nbformat": 4,
  "nbformat_minor": 0,
  "metadata": {
    "colab": {
      "provenance": [],
      "authorship_tag": "ABX9TyMsupRBv1pNT1qtuDfUjUIW",
      "include_colab_link": true
    },
    "kernelspec": {
      "name": "python3",
      "display_name": "Python 3"
    },
    "language_info": {
      "name": "python"
    }
  },
  "cells": [
    {
      "cell_type": "markdown",
      "metadata": {
        "id": "view-in-github",
        "colab_type": "text"
      },
      "source": [
        "<a href=\"https://colab.research.google.com/github/AbhiKr321/PW_Assignment/blob/main/16_Feb_AssQ.ipynb\" target=\"_parent\"><img src=\"https://colab.research.google.com/assets/colab-badge.svg\" alt=\"Open In Colab\"/></a>"
      ]
    },
    {
      "cell_type": "markdown",
      "source": [
        "Q1. What is a database? Differentiate between SQL and NoSQL databases.\n",
        "- *A database is an organized collection of data, so that it can be easily accessed and managed.*\n",
        "\n",
        "- SQL databases are vertically scalable, while NoSQL databases are horizontally scalable. SQL databases are table-based, while NoSQL databases are document, key-value, graph, or wide-column stores. SQL databases are better for multi-row transactions, while NoSQL is better for unstructured data like documents or JSON."
      ],
      "metadata": {
        "id": "GtIX98hczVJs"
      }
    },
    {
      "cell_type": "markdown",
      "source": [
        "Q2. What is DDL? Explain why CREATE, DROP, ALTER, and TRUNCATE are used with an example.\n",
        "- Data Definition Language(DDL) is a subset of SQL and a part of DBMS(Database Management System). DDL consist of Commands to commands like CREATE, ALTER, TRUNCATE and DROP. These commands are used to create or modify the tables in SQL.\n",
        "- CREATE, DROP, ALTER, and TRUNCATE are SQL commands used for managing database objects. Here's an explanation of what each command does with an example:"
      ],
      "metadata": {
        "id": "avAovZmXzZ8j"
      }
    },
    {
      "cell_type": "code",
      "source": [
        "# The CREATE command is used to create new database objects such as tables, indexes, and views.\n",
        "CREATE TABLE customers (\n",
        "  customer_id INT PRIMARY KEY,\n",
        "  first_name VARCHAR(50),\n",
        "  last_name VARCHAR(50),\n",
        "  email VARCHAR(100),\n",
        "  address VARCHAR(200)\n",
        ");\n",
        "\n",
        "# The DROP command is used to delete an existing database object such as a table, index, or view. \n",
        "DROP TABLE customers;\n",
        "\n",
        "# The ALTER command is used to modify the structure of an existing database object.\n",
        "ALTER TABLE customers\n",
        "ADD phone VARCHAR(20);\n",
        "\n",
        "# The TRUNCATE command is used to remove all data from an existing table without deleting the table structure.\n",
        "TRUNCATE TABLE customers;"
      ],
      "metadata": {
        "id": "TxkfsdzA14O8"
      },
      "execution_count": null,
      "outputs": []
    },
    {
      "cell_type": "markdown",
      "source": [
        "Q3. What is DML? Explain INSERT, UPDATE, and DELETE with an example.\n",
        "- DML stands for Data Manipulation Language, which is a subset of SQL that is used to manipulate data in a database. DML commands are used to insert, update, and delete data in database tables. "
      ],
      "metadata": {
        "id": "zEitFOiszb4E"
      }
    },
    {
      "cell_type": "code",
      "source": [
        "# The INSERT command is used to add new rows of data to a table.\n",
        "INSERT INTO employees (employee_id, first_name, last_name, salary)\n",
        "VALUES (1001, 'John', 'Doe', 50000);\n",
        "\n",
        "# The UPDATE command is used to modify existing rows of data in a table. \n",
        "UPDATE employees\n",
        "SET salary = 55000\n",
        "WHERE employee_id = 1001;\n",
        "\n",
        "# The DELETE command is used to remove existing rows of data from a table.\n",
        "DELETE FROM employees\n",
        "WHERE employee_id = 1001;\n"
      ],
      "metadata": {
        "id": "CJR1MBIM3NTu"
      },
      "execution_count": null,
      "outputs": []
    },
    {
      "cell_type": "markdown",
      "source": [
        "Q4. What is DQL? Explain SELECT with an example.\n",
        "- DQL stands for Data Query Language, which is a subset of SQL that is used to query and retrieve data from a database. DQL commands are used to retrieve data from database tables. "
      ],
      "metadata": {
        "id": "BLU1qsiyzdn8"
      }
    },
    {
      "cell_type": "code",
      "source": [
        "# The SELECT command is used to retrieve data from one or more tables in a database.\n",
        "SELECT employee_id, first_name, last_name, salary FROM employees;"
      ],
      "metadata": {
        "id": "3wlUkXf334Pr"
      },
      "execution_count": null,
      "outputs": []
    },
    {
      "cell_type": "markdown",
      "source": [
        "Q5. Explain Primary Key and Foreign Key.\n",
        "- Primary Key: A primary key is a column or set of columns in a table that uniquely identifies each row in the table. A primary key must be unique and not null for each row. It's used to ensure data integrity, as it prevents duplicate or null values from being inserted into the table. Typically, a primary key is defined when a table is created and can be used to relate tables to each other.\n",
        " \n",
        "- Foreign Key: A foreign key is a column or set of columns in a table that refers to the primary key of another table. It's used to establish a relationship between two tables in a database. A foreign key ensures referential integrity, as it ensures that the values in the referencing table match the values in the referenced table."
      ],
      "metadata": {
        "id": "MzvKQTLnzfMU"
      }
    },
    {
      "cell_type": "code",
      "source": [
        "CREATE TABLE customers (\n",
        "    customer_id INT PRIMARY KEY,\n",
        "    first_name VARCHAR(50),\n",
        "    last_name VARCHAR(50),\n",
        "    email VARCHAR(100)\n",
        ");\n",
        "\n",
        "CREATE TABLE orders (\n",
        "    order_id INT PRIMARY KEY,\n",
        "    customer_id INT,\n",
        "    order_date DATE,\n",
        "    FOREIGN KEY (customer_id) REFERENCES customers(customer_id)\n",
        ");\n"
      ],
      "metadata": {
        "id": "1TDhpvXq4TBj"
      },
      "execution_count": null,
      "outputs": []
    },
    {
      "cell_type": "markdown",
      "source": [
        "Q6. Write a python code to connect MySQL to python. Explain the cursor() and execute() method.\n",
        "\n",
        "- In code block there is Python code to connect to MySQL using the mysql-connector package:\n",
        "\n",
        "- In the below code, the mysql-connector package is used to establish a connection to a MySQL database server. The connect() method takes four arguments: the hostname, username, password, and database name.\n",
        "\n",
        "- Once a connection is established, a cursor object is created using the cursor() method of the connection object. The cursor object is used to execute SQL queries and fetch results from the database.\n",
        "\n",
        "- The execute() method of the cursor object is used to execute a SQL query. In this example, the query is \"SELECT * FROM customers\", which selects all rows from the \"customers\" table.\n",
        "\n",
        "- The fetchall() method is used to retrieve all the results of the query, and the results are printed using a for loop."
      ],
      "metadata": {
        "id": "zt5x_jjAzhA7"
      }
    },
    {
      "cell_type": "markdown",
      "source": [
        "Q7. Give the order of execution of SQL clauses in an SQL query.\n",
        "FROM clause: This clause specifies the table or tables from which data is to be retrieved.\n",
        "\n",
        "- WHERE clause: This clause is used to filter the data based on specific \n",
        "conditions. Only rows that meet the conditions specified in the WHERE clause are included in the result set.\n",
        "\n",
        "- GROUP BY clause: This clause is used to group rows that have the same values for one or more columns. Aggregate functions such as SUM, COUNT, AVG, etc. can be applied to the grouped rows.\n",
        "\n",
        "- HAVING clause: This clause is used to filter the groups based on specific conditions. Only groups that meet the conditions specified in the HAVING clause are included in the result set.\n",
        "\n",
        "- SELECT clause: This clause is used to specify the columns to be included in the result set.\n",
        "\n",
        "- ORDER BY clause: This clause is used to sort the result set by one or more columns.\n",
        "\n",
        "- LIMIT clause: This clause is used to limit the number of rows returned by the query.\n"
      ],
      "metadata": {
        "id": "X09h6KHpzhy0"
      }
    }
  ]
}